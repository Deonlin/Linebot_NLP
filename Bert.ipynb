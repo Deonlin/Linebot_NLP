{
 "cells": [
  {
   "cell_type": "code",
   "execution_count": 9,
   "metadata": {},
   "outputs": [],
   "source": [
    "from bert_serving.client import BertClient\n",
    "from scipy import spatial\n",
    "from numpy import argmax\n",
    "from opencc import OpenCC\n",
    "from sklearn.model_selection import train_test_split\n",
    "from sklearn.svm import SVC"
   ]
  },
  {
   "cell_type": "code",
   "execution_count": 10,
   "metadata": {},
   "outputs": [],
   "source": [
    "cc = OpenCC('t2s')#因為bert目前還是用簡體字做分析，先轉成簡體字\n",
    "bc = BertClient()#have to run Bert server beforehand\n",
    "def consine_sim(v1,v2):#餘弦相似性公式\n",
    "    return 1-spatial.distance.cosine(v1,v2)\n",
    "\n",
    "# classes = ['房內服務行為','房內看菜單行為','房內點餐行為','服務項目',\n",
    "#           '訂房行為','詢問健身房地點','詢問健身房開放時間','詢問會議中心地點',\n",
    "#           '詢問會議中心開放時間','詢問游泳池地點','詢問游泳池開放時間','詢問禮品店地點',\n",
    "#           '詢問禮品店開放時間','詢問餐廳地點','詢問餐廳開放時間']\n",
    "\n",
    "classes = ['房內服務行為','詢問健身房地點','詢問餐廳開放時間']\n",
    "sents_n_labels = [\n",
    "    ('我要收垃圾，請找房務清潔人員',0),\n",
    "    ('我要叫房內服務', 0),\n",
    "    ('找人來幫我掃房間',0),\n",
    "    ('垃圾太多請來收',0),\n",
    "    ('房間太髒，需要人來清理',0),\n",
    "    ('請幫我找管家來',0),\n",
    "    ('我要換棉被，太薄了，請找管家來',0),\n",
    "    ('我需要房務人員',0),\n",
    "    ('請幫我找房務人員過來',0),\n",
    "    ('房間好髒，需要清掃',0),\n",
    "    (\"健身房的位置在哪裡\",1),\n",
    "    (\"你們有健身房嗎\",1),\n",
    "    (\"我要去健身房\",1),\n",
    "    (\"哪裡可以健身\",1),\n",
    "    (\"健身房怎麼去\",1),\n",
    "    (\"給我看健身房的位置\",1),\n",
    "    (\"健身房在哪裡\",1),\n",
    "    (\"健身房在幾樓\",1),\n",
    "    (\"請問餐廳什麼時候營業\",2),\n",
    "    (\"餐廳營業開放時間是幾點\",2),\n",
    "    (\"餐廳開放中嗎\",2),\n",
    "    (\"我現在要去餐廳用餐可以嗎\",2),\n",
    "    (\"餐廳什麼時候開始\",2),\n",
    "    (\"餐廳的開放時間\",2),\n",
    "    (\"餐廳現在有開嗎\",2),\n",
    "    (\"餐廳的營業時間\",2),]\n"
   ]
  },
  {
   "cell_type": "code",
   "execution_count": 5,
   "metadata": {},
   "outputs": [
    {
     "name": "stdout",
     "output_type": "stream",
     "text": [
      "['我要收垃圾，请找房务清洁人员', '我要叫房内服务', '找人来帮我扫房间', '垃圾太多请来收', '房间太脏，需要人来清理', '请帮我找管家来', '我要换棉被，太薄了，请找管家来', '我需要房务人员', '请帮我找房务人员过来', '房间好脏，需要清扫', '健身房的位置在哪里', '你们有健身房吗', '我要去健身房', '哪里可以健身', '健身房怎么去', '给我看健身房的位置', '健身房在哪里', '健身房在几楼', '请问餐厅什么时候营业', '餐厅营业开放时间是几点', '餐厅开放中吗', '我现在要去餐厅用餐可以吗', '餐厅什么时候开始', '餐厅的开放时间', '餐厅现在有开吗', '餐厅的营业时间', '我想去吃中餐，有什么推荐', '我想去吃饭', '哪里有餐厅', '让我看看餐厅在哪', '你们餐厅在几楼', '你们有餐厅吗', '我要去餐厅吃饭', '给我餐厅所在地', '你知道餐厅位置吗', '请问用餐地方在哪', '带我去吃东西', '带我去餐厅']\n",
      "[0, 0, 0, 0, 0, 0, 0, 0, 0, 0, 1, 1, 1, 1, 1, 1, 1, 1, 2, 2, 2, 2, 2, 2, 2, 2, 3, 3, 3, 3, 3, 3, 3, 3, 3, 3, 3, 3]\n",
      "['房內服務行為', '詢問健身房地點', '詢問餐廳開放時間', '詢問餐廳地點']\n"
     ]
    }
   ],
   "source": [
    "sents =[cc.convert(sent[0]) for sent in sents_n_labels]\n",
    "print(sents)\n",
    "labels = [label[1] for label in sents_n_labels]\n",
    "print(labels)\n",
    "classes = [cls for cls in classes]\n",
    "print(classes)\n",
    "classes_enc = bc.encode(classes)#把句子們轉換成數值向量"
   ]
  },
  {
   "cell_type": "code",
   "execution_count": 6,
   "metadata": {},
   "outputs": [],
   "source": [
    "def cosine_sim(v1,v2):#餘弦相似性公式\n",
    "    return 1-spatial.distance.cosine(v1,v2)\n",
    "def predict_label(v):#v必須是一維向量 因此def another predict_labels\n",
    "    cos_sim=[]\n",
    "    for idx,cls in enumerate(classes_enc):\n",
    "        cos_sim.append(cosine_sim(v,cls))\n",
    "    return argmax(cos_sim)\n",
    "\n",
    "def predict_labels(vs):\n",
    "    op = []\n",
    "    for v in vs:\n",
    "        op.append(predict_label(v))\n",
    "    return op"
   ]
  },
  {
   "cell_type": "code",
   "execution_count": 7,
   "metadata": {},
   "outputs": [
    {
     "name": "stdout",
     "output_type": "stream",
     "text": [
      "Predict Label: [0, 0, 1, 3, 0, 1, 1, 0, 1, 1, 1, 1, 1, 1, 1, 1, 1, 1, 2, 2, 2, 2, 3, 2, 2, 3, 2, 3, 3, 3, 3, 3, 3, 3, 3, 2, 1, 3]\n"
     ]
    }
   ],
   "source": [
    "\n",
    "print(\"Predict Label:\", predict_labels(bc.encode(sents)) )"
   ]
  },
  {
   "cell_type": "code",
   "execution_count": 11,
   "metadata": {},
   "outputs": [
    {
     "name": "stdout",
     "output_type": "stream",
     "text": [
      "Accuracy: 0.7777777777777778\n"
     ]
    }
   ],
   "source": [
    "cc = OpenCC('t2s')# 繁轉簡\n",
    "bc = BertClient()# 取得bert服務器資源\n",
    "def cosine_sim(v1,v2):\n",
    "    return 1-spatial.distance.cosine(v1,v2)\n",
    "    \n",
    "\n",
    "\n",
    "sents = [cc.convert(t[0]) for t in sents_n_labels ]\n",
    "labels = [t[1] for t in sents_n_labels ]\n",
    "classes = [cc.convert(s) for s in classes ]\n",
    "\n",
    "classes_enc = bc.encode(classes)#把句子們轉換成數值向量\n",
    "sents_enc = bc.encode(sents)\n",
    "\n",
    "sents_enc_train, sents_enc_test, labels_train, labels_test =  \\\n",
    "train_test_split(sents_enc, labels, test_size=0.33,random_state=42)\n",
    "cls = SVC()\n",
    "cls.fit(sents_enc_train, labels_train)\n",
    "score =cls.score(sents_enc_test, labels_test)\n",
    "print('Accuracy:',score)\n"
   ]
  },
  {
   "cell_type": "code",
   "execution_count": 43,
   "metadata": {},
   "outputs": [
    {
     "name": "stdout",
     "output_type": "stream",
     "text": [
      "['negative,AP 好 任性', 'negative,a 甜心 一手 货源 招 代理  这个 骗子', 'negative,っ ╥ ╯ ﹏ ╰ ╥ c 被 土豪 欺负', 'negative,❀ ℋ č 点点  讨厌 不许 亲亲', 'negative,Don t care  大爷 此', 'negative,ee 好 霸道 欺负 老实人', 'negative,E 无语', 'negative,fct 很 讨厌', 'negative,fly 白痴']\n"
     ]
    }
   ],
   "source": [
    "import urllib.request; #用來建立請求\n",
    "from sklearn.model_selection import train_test_split\n",
    "from bert_serving.client import BertClient\n",
    "from sklearn.svm import SVC\n",
    "\n",
    "# 引入外部資料集\n",
    "url = 'https://raw.githubusercontent.com/xxxspy/Chinese_conversation_sentiment/master/sentiment_XS_test.txt'\n",
    "x = urllib.request.urlopen(url)\n",
    "x = x.read()\n",
    "with open('sentiment_XS_test.txt', 'wb') as f: # save\n",
    "    f.write(x)\n",
    "    \n",
    "# 存到本地端後，載入來使用\n",
    "with open('sentiment_XS_test.txt', 'rb') as f: # load\n",
    "    x = f.read().decode('utf-8')\n",
    "x = x.split('\\n')\n",
    "# print(x[0])\n",
    "# print(x[2])\n",
    "print(x[1:10])"
   ]
  },
  {
   "cell_type": "code",
   "execution_count": 46,
   "metadata": {},
   "outputs": [],
   "source": [
    "labels1, sents1 = [], []\n",
    "d = { 'negative':0, 'positive':1 }\n",
    "for line in x[1:]:\n",
    "    sp = line.split(',')\n",
    "    if len(sp) != 2:\n",
    "#         print(sp)\n",
    "        continue\n",
    "    pn, text = sp\n",
    "    label = d[pn.strip()]\n",
    "    labels1.append(label) \n",
    "    sents1.append(text)\n"
   ]
  },
  {
   "cell_type": "code",
   "execution_count": 47,
   "metadata": {},
   "outputs": [],
   "source": [
    "bc = BertClient() # 取得bert服務器資源\n",
    "sents_enc1 = bc.encode(sents1) #把句子們轉換成數值向量\n",
    "\n",
    "X_train, X_test, Y_train, Y_test =  \\\n",
    "train_test_split(sents_enc1, labels1, test_size=0.33,random_state=36)"
   ]
  },
  {
   "cell_type": "code",
   "execution_count": 49,
   "metadata": {},
   "outputs": [
    {
     "data": {
      "text/plain": [
       "0.9185010482180294"
      ]
     },
     "execution_count": 49,
     "metadata": {},
     "output_type": "execute_result"
    }
   ],
   "source": [
    "module = SVC()\n",
    "module.fit(X_train,Y_train)\n",
    "module.score(X_test, Y_test)"
   ]
  },
  {
   "cell_type": "code",
   "execution_count": null,
   "metadata": {},
   "outputs": [],
   "source": []
  }
 ],
 "metadata": {
  "kernelspec": {
   "display_name": "Python 3",
   "language": "python",
   "name": "python3"
  },
  "language_info": {
   "codemirror_mode": {
    "name": "ipython",
    "version": 3
   },
   "file_extension": ".py",
   "mimetype": "text/x-python",
   "name": "python",
   "nbconvert_exporter": "python",
   "pygments_lexer": "ipython3",
   "version": "3.6.10"
  }
 },
 "nbformat": 4,
 "nbformat_minor": 4
}
