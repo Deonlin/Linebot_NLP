{
 "cells": [
  {
   "cell_type": "code",
   "execution_count": 1,
   "metadata": {},
   "outputs": [
    {
     "name": "stderr",
     "output_type": "stream",
     "text": [
      "C:\\Users\\game2\\Anaconda3\\envs\\BERT\\lib\\site-packages\\sklearn\\externals\\joblib\\__init__.py:15: FutureWarning: sklearn.externals.joblib is deprecated in 0.21 and will be removed in 0.23. Please import this functionality directly from joblib, which can be installed with: pip install joblib. If this warning is raised when loading pickled models, you may need to re-serialize those models with scikit-learn 0.21+.\n",
      "  warnings.warn(msg, category=FutureWarning)\n"
     ]
    }
   ],
   "source": [
    "from bert_serving.client import BertClient\n",
    "from scipy import spatial\n",
    "from numpy import argmax\n",
    "from opencc import OpenCC\n",
    "from sklearn.model_selection import train_test_split\n",
    "from sklearn.svm import SVC\n",
    "from sklearn.externals import joblib"
   ]
  },
  {
   "cell_type": "code",
   "execution_count": 2,
   "metadata": {},
   "outputs": [],
   "source": [
    "cc = OpenCC('t2s')#因為bert目前還是用簡體字做分析，先轉成簡體字\n",
    "bc = BertClient()#have to run Bert server beforehand\n",
    "def consine_sim(v1,v2):#餘弦相似性公式\n",
    "    return 1-spatial.distance.cosine(v1,v2)\n",
    "\n",
    "# classes = ['房內服務行為','房內看菜單行為','房內點餐行為','服務項目',\n",
    "#           '訂房行為','詢問健身房地點','詢問健身房開放時間','詢問會議中心地點',\n",
    "#           '詢問會議中心開放時間','詢問游泳池地點','詢問游泳池開放時間','詢問禮品店地點',\n",
    "#           '詢問禮品店開放時間','詢問餐廳地點','詢問餐廳開放時間']\n",
    "\n",
    "classes = ['房內服務行為','詢問健身房地點','詢問餐廳開放時間']\n",
    "sents_n_labels = [\n",
    "    ('我要收垃圾，請找房務清潔人員',0),\n",
    "    ('我要叫房內服務', 0),\n",
    "    ('找人來幫我掃房間',0),\n",
    "    ('垃圾太多請來收',0),\n",
    "    ('房間太髒，需要人來清理',0),\n",
    "    ('請幫我找管家來',0),\n",
    "    ('我要換棉被，太薄了，請找管家來',0),\n",
    "    ('我需要房務人員',0),\n",
    "    ('請幫我找房務人員過來',0),\n",
    "    ('房間好髒，需要清掃',0),\n",
    "    (\"健身房的位置在哪裡\",1),\n",
    "    (\"你們有健身房嗎\",1),\n",
    "    (\"我要去健身房\",1),\n",
    "    (\"哪裡可以健身\",1),\n",
    "    (\"健身房怎麼去\",1),\n",
    "    (\"給我看健身房的位置\",1),\n",
    "    (\"健身房在哪裡\",1),\n",
    "    (\"健身房在幾樓\",1),\n",
    "    (\"請問餐廳什麼時候營業\",2),\n",
    "    (\"餐廳營業開放時間是幾點\",2),\n",
    "    (\"餐廳開放中嗎\",2),\n",
    "    (\"我現在要去餐廳用餐可以嗎\",2),\n",
    "    (\"餐廳什麼時候開始\",2),\n",
    "    (\"餐廳的開放時間\",2),\n",
    "    (\"餐廳現在有開嗎\",2),\n",
    "    (\"餐廳的營業時間\",2)]\n"
   ]
  },
  {
   "cell_type": "code",
   "execution_count": 3,
   "metadata": {},
   "outputs": [
    {
     "name": "stdout",
     "output_type": "stream",
     "text": [
      "['我要收垃圾，请找房务清洁人员', '我要叫房内服务', '找人来帮我扫房间', '垃圾太多请来收', '房间太脏，需要人来清理', '请帮我找管家来', '我要换棉被，太薄了，请找管家来', '我需要房务人员', '请帮我找房务人员过来', '房间好脏，需要清扫', '健身房的位置在哪里', '你们有健身房吗', '我要去健身房', '哪里可以健身', '健身房怎么去', '给我看健身房的位置', '健身房在哪里', '健身房在几楼', '请问餐厅什么时候营业', '餐厅营业开放时间是几点', '餐厅开放中吗', '我现在要去餐厅用餐可以吗', '餐厅什么时候开始', '餐厅的开放时间', '餐厅现在有开吗', '餐厅的营业时间']\n",
      "[0, 0, 0, 0, 0, 0, 0, 0, 0, 0, 1, 1, 1, 1, 1, 1, 1, 1, 2, 2, 2, 2, 2, 2, 2, 2]\n",
      "['房內服務行為', '詢問健身房地點', '詢問餐廳開放時間']\n"
     ]
    }
   ],
   "source": [
    "sents =[cc.convert(sent[0]) for sent in sents_n_labels]\n",
    "print(sents)\n",
    "labels = [label[1] for label in sents_n_labels]\n",
    "print(labels)\n",
    "classes = [cls for cls in classes]\n",
    "print(classes)\n",
    "classes_enc = bc.encode(classes)#把句子們轉換成數值向量"
   ]
  },
  {
   "cell_type": "code",
   "execution_count": 4,
   "metadata": {},
   "outputs": [
    {
     "name": "stdout",
     "output_type": "stream",
     "text": [
      "Accuracy: 0.7777777777777778\n"
     ]
    }
   ],
   "source": [
    "cc = OpenCC('t2s')# 繁轉簡\n",
    "bc = BertClient()# 取得bert服務器資源\n",
    "def cosine_sim(v1,v2):\n",
    "    return 1-spatial.distance.cosine(v1,v2)\n",
    "    \n",
    "\n",
    "\n",
    "sents = [cc.convert(t[0]) for t in sents_n_labels ]\n",
    "labels = [t[1] for t in sents_n_labels ]\n",
    "classes = [cc.convert(s) for s in classes ]\n",
    "\n",
    "classes_enc = bc.encode(classes)#把句子們轉換成數值向量\n",
    "sents_enc = bc.encode(sents)\n",
    "\n",
    "sents_enc_train, sents_enc_test, labels_train, labels_test =  \\\n",
    "train_test_split(sents_enc, labels, test_size=0.33,random_state=42)\n",
    "cls = SVC()\n",
    "cls.fit(sents_enc_train, labels_train)\n",
    "score =cls.score(sents_enc_test, labels_test)\n",
    "print('Accuracy:',score)\n"
   ]
  },
  {
   "cell_type": "code",
   "execution_count": 5,
   "metadata": {},
   "outputs": [
    {
     "data": {
      "text/plain": [
       "['cls.pkl']"
      ]
     },
     "execution_count": 5,
     "metadata": {},
     "output_type": "execute_result"
    }
   ],
   "source": [
    "#save model\n",
    "joblib.dump(cls,'cls.pkl')"
   ]
  }
 ],
 "metadata": {
  "kernelspec": {
   "display_name": "Python 3",
   "language": "python",
   "name": "python3"
  },
  "language_info": {
   "codemirror_mode": {
    "name": "ipython",
    "version": 3
   },
   "file_extension": ".py",
   "mimetype": "text/x-python",
   "name": "python",
   "nbconvert_exporter": "python",
   "pygments_lexer": "ipython3",
   "version": "3.6.10"
  }
 },
 "nbformat": 4,
 "nbformat_minor": 4
}
